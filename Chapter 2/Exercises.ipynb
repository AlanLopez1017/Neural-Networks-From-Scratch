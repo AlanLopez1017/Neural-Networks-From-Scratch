{
 "cells": [
  {
   "cell_type": "markdown",
   "metadata": {},
   "source": [
    "# Neuron Model and Network Architectures"
   ]
  },
  {
   "cell_type": "markdown",
   "metadata": {},
   "source": [
    "Define the transfer functions"
   ]
  },
  {
   "cell_type": "code",
   "execution_count": 1,
   "metadata": {},
   "outputs": [],
   "source": [
    "def hardlimit(n):\n",
    "    if n < 0:\n",
    "        return 0\n",
    "    return 1\n",
    "\n",
    "def symmetrical_hard_limit(n):\n",
    "    if n < 0:\n",
    "        return -1\n",
    "    return 1\n",
    "\n",
    "def linear(n):\n",
    "    return n\n",
    "\n",
    "def saturing_linear(n):\n",
    "    if n < 0:\n",
    "        a = 0\n",
    "    elif 0 <= n <= 1:\n",
    "        a = n\n",
    "    else:\n",
    "        a = 1\n",
    "    return a\n",
    "\n",
    "def symmetric_saturing_linear(n):\n",
    "    if n < -1:\n",
    "        a = -1\n",
    "    elif -1 <= n <= 1:\n",
    "        a = n\n",
    "    else:\n",
    "        a = 1\n",
    "    return a\n",
    "\n",
    "def log_sigmoid(n):\n",
    "    import numpy as np\n",
    "    return 1/(1+np.exp(-n))\n",
    "\n",
    "def hyperbolic_tangent_sigmoid(n):\n",
    "    import numpy as np\n",
    "    return (np.exp(n)-np.exp(-n))/(np.exp(n)+np.exp(-n))\n",
    "\n",
    "def positive_linear(n):\n",
    "    if n < 0:\n",
    "        return 0\n",
    "    return n"
   ]
  },
  {
   "cell_type": "markdown",
   "metadata": {},
   "source": [
    "### 1. A single input neuron has a weight of 1.3 and bias of 3.0. What possible kinds of trasnfer function could this neuron have, if its output is given below. In each case, the value of the input that would produce these outputs.\n",
    "    i. 1.6\n",
    "    ii. 1.0\n",
    "    iii. 0.9963\n",
    "    iv. -1.0"
   ]
  }
 ],
 "metadata": {
  "kernelspec": {
   "display_name": "Python 3",
   "language": "python",
   "name": "python3"
  },
  "language_info": {
   "codemirror_mode": {
    "name": "ipython",
    "version": 3
   },
   "file_extension": ".py",
   "mimetype": "text/x-python",
   "name": "python",
   "nbconvert_exporter": "python",
   "pygments_lexer": "ipython3",
   "version": "3.9.7"
  },
  "orig_nbformat": 4
 },
 "nbformat": 4,
 "nbformat_minor": 2
}
