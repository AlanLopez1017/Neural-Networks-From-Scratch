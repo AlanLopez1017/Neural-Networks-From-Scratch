{
 "cells": [
  {
   "cell_type": "markdown",
   "metadata": {},
   "source": [
    "# Neuron Model and Network Architecture"
   ]
  },
  {
   "cell_type": "code",
   "execution_count": 1,
   "metadata": {},
   "outputs": [],
   "source": [
    "from IPython.display import Math, display"
   ]
  },
  {
   "cell_type": "markdown",
   "metadata": {},
   "source": [
    "### 1. The input to single-input neuron is 2.0, its weight is 2.3 and its bias is -3.\n",
    "\n",
    "    i. What is the net input to the transfer function?\n",
    "\n",
    "    ii. What is the neuron output?\n"
   ]
  },
  {
   "cell_type": "code",
   "execution_count": 10,
   "metadata": {},
   "outputs": [
    {
     "data": {
      "text/latex": [
       "$\\displaystyle i.\\ The\\ net\\ input\\ is\\ given\\ by\\ n\\ = wp\\ + b$"
      ],
      "text/plain": [
       "<IPython.core.display.Math object>"
      ]
     },
     "metadata": {},
     "output_type": "display_data"
    },
    {
     "name": "stdout",
     "output_type": "stream",
     "text": [
      "Net input: n =  1.5999999999999996\n"
     ]
    }
   ],
   "source": [
    "display(Math(r\"i.\\ The\\ net\\ input\\ is\\ given\\ by\\ n\\ = wp\\ + b\"))\n",
    "p = 2\n",
    "w = 2.3\n",
    "b = -3\n",
    "\n",
    "n = w*p + b\n",
    "print(\"Net input: n =  {}\".format(n))"
   ]
  },
  {
   "cell_type": "markdown",
   "metadata": {},
   "source": [
    "ii. The output can not be determined because the transfer function is not defined."
   ]
  },
  {
   "cell_type": "markdown",
   "metadata": {},
   "source": [
    "### 2. What is the output of the neuron of problem 1 if it has the following transfer functions?\n",
    "\n",
    "    i. Hard limit\n",
    "    \n",
    "    ii. Linear\n",
    "\n",
    "    iii. Log-sigmoid"
   ]
  },
  {
   "cell_type": "code",
   "execution_count": 18,
   "metadata": {},
   "outputs": [],
   "source": [
    "# Define the transfer functions\n",
    "def hardlimit(n):\n",
    "    if n < 0:\n",
    "        return 0\n",
    "    return 1\n",
    "\n",
    "def linear(n):\n",
    "    return n\n",
    "\n",
    "def log_sigmoid(n):\n",
    "    import numpy as np\n",
    "    return 1/(1+np.exp(-n))"
   ]
  },
  {
   "cell_type": "markdown",
   "metadata": {},
   "source": [
    "i. For the hard limit transfer function"
   ]
  },
  {
   "cell_type": "code",
   "execution_count": 19,
   "metadata": {},
   "outputs": [
    {
     "data": {
      "text/plain": [
       "array(1)"
      ]
     },
     "execution_count": 19,
     "metadata": {},
     "output_type": "execute_result"
    }
   ],
   "source": [
    "a = hardlimit(n)\n",
    "a"
   ]
  },
  {
   "cell_type": "markdown",
   "metadata": {},
   "source": [
    "ii. For the linear transfer function"
   ]
  },
  {
   "cell_type": "code",
   "execution_count": 14,
   "metadata": {},
   "outputs": [
    {
     "data": {
      "text/plain": [
       "1.5999999999999996"
      ]
     },
     "execution_count": 14,
     "metadata": {},
     "output_type": "execute_result"
    }
   ],
   "source": [
    "a = linear(n)\n",
    "a"
   ]
  },
  {
   "cell_type": "markdown",
   "metadata": {},
   "source": [
    "iii. For the log-sigmoid transfer function"
   ]
  },
  {
   "cell_type": "code",
   "execution_count": 15,
   "metadata": {},
   "outputs": [
    {
     "data": {
      "text/plain": [
       "0.8320183851339245"
      ]
     },
     "execution_count": 15,
     "metadata": {},
     "output_type": "execute_result"
    }
   ],
   "source": [
    "a = log_sigmoid(n)\n",
    "a"
   ]
  },
  {
   "cell_type": "markdown",
   "metadata": {},
   "source": [
    "### Given a two-input neuron with the following parameters b = 1.2, W = [3 2] and p = [-5 6]^T, calculate the neuron output for the following transfer functions:\n",
    "\n",
    "    i. A symmetrical hard limit transfer function\n",
    "\n",
    "    ii. A saturing linear transfer function\n",
    "\n",
    "    iii. A hyperbolic tangent sigmoid (tansig) transfer function"
   ]
  },
  {
   "cell_type": "code",
   "execution_count": 29,
   "metadata": {},
   "outputs": [],
   "source": [
    "# Define the transfer functions\n",
    "def symmetrical_hard_limit(n):\n",
    "    if n < 0:\n",
    "        return -1\n",
    "    return 1\n",
    "\n",
    "def saturing_linear(n):\n",
    "    if n < 0:\n",
    "        a = 0\n",
    "    elif 0 <= n <= 1:\n",
    "        a = n\n",
    "    else:\n",
    "        a = 1\n",
    "    return a\n",
    "\n",
    "def hyperbolic_tangent_sigmoid(n):\n",
    "    import numpy as np\n",
    "    return (np.exp(n)-np.exp(-n))/(np.exp(n)+np.exp(-n))\n",
    "\n"
   ]
  },
  {
   "cell_type": "code",
   "execution_count": 24,
   "metadata": {},
   "outputs": [
    {
     "data": {
      "text/plain": [
       "array([-1.8])"
      ]
     },
     "execution_count": 24,
     "metadata": {},
     "output_type": "execute_result"
    }
   ],
   "source": [
    "import numpy as np\n",
    "# We calculate the net input n:\n",
    "W = np.array([3, 2])\n",
    "p = np.array([-5,6]).reshape(-1,1)\n",
    "b = np.array([1.2])\n",
    "\n",
    "n = np.dot(W,p)+b\n",
    "n"
   ]
  },
  {
   "cell_type": "markdown",
   "metadata": {},
   "source": [
    "Find the outputs for each of the transfer functions"
   ]
  },
  {
   "cell_type": "code",
   "execution_count": 25,
   "metadata": {},
   "outputs": [
    {
     "data": {
      "text/plain": [
       "array([-1])"
      ]
     },
     "execution_count": 25,
     "metadata": {},
     "output_type": "execute_result"
    }
   ],
   "source": [
    "# i.\n",
    "a = symmetrical_hard_limit(n)\n",
    "a"
   ]
  },
  {
   "cell_type": "code",
   "execution_count": 27,
   "metadata": {},
   "outputs": [
    {
     "data": {
      "text/plain": [
       "0"
      ]
     },
     "execution_count": 27,
     "metadata": {},
     "output_type": "execute_result"
    }
   ],
   "source": [
    "# ii.\n",
    "a = saturing_linear(n)\n",
    "a"
   ]
  },
  {
   "cell_type": "code",
   "execution_count": 30,
   "metadata": {},
   "outputs": [
    {
     "data": {
      "text/plain": [
       "array([-0.94680601])"
      ]
     },
     "execution_count": 30,
     "metadata": {},
     "output_type": "execute_result"
    }
   ],
   "source": [
    "# iii. \n",
    "a = hyperbolic_tangent_sigmoid(n)\n",
    "a"
   ]
  },
  {
   "cell_type": "markdown",
   "metadata": {},
   "source": [
    "### iv. A single-layer neural network is to have six inputs and two outputs. The outpus are to be limited to and continuous over the range 0 to 1. What can you tell about the network architecture? Specifically:\n",
    "\n",
    "    i. How many neurons are required?\n",
    "\n",
    "    ii. What are the dimensions of the weight matrix?\n",
    "\n",
    "    iii. What kind of transfer functions could be used?\n",
    "\n",
    "    iv. Is a bias required?\n"
   ]
  },
  {
   "cell_type": "markdown",
   "metadata": {},
   "source": [
    "i. Two neurons, one for each output are required.\n",
    "\n",
    "ii. The weight matrix has two rows (S = 2 neurons) and six columns (R = 6 inputs). The producto Wp is a two-element vector.\n",
    "\n",
    "iii. The logsig transfer function would be most appropriate.\n",
    "\n",
    "iv. Not enough information is given to determine if a bias is required."
   ]
  }
 ],
 "metadata": {
  "kernelspec": {
   "display_name": "Python 3",
   "language": "python",
   "name": "python3"
  },
  "language_info": {
   "codemirror_mode": {
    "name": "ipython",
    "version": 3
   },
   "file_extension": ".py",
   "mimetype": "text/x-python",
   "name": "python",
   "nbconvert_exporter": "python",
   "pygments_lexer": "ipython3",
   "version": "3.9.7"
  },
  "orig_nbformat": 4
 },
 "nbformat": 4,
 "nbformat_minor": 2
}
